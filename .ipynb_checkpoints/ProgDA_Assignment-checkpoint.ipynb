{
 "cells": [
  {
   "cell_type": "markdown",
   "metadata": {},
   "source": [
    "#                   numpy.random package in Python"
   ]
  },
  {
   "cell_type": "markdown",
   "metadata": {},
   "source": [
    "To Do:\n",
    "\n",
    "1. Explain the overall purpose of the package.\n",
    "2. Explain the use of the “Simple random data” and “Permutations” functions.\n",
    "3. Explain the use and purpose of at least five “Distributions” functions.\n",
    "4. Explain the use of seeds in generating pseudorandom numbers."
   ]
  },
  {
   "cell_type": "markdown",
   "metadata": {},
   "source": [
    "1. NumPy (Numerical Python) is an open source Python library, which is the universal standard for working with numerical data in Python, and it’s at the core of the scientific Python and PyData ecosystems (Numpy.org, 2020). "
   ]
  },
  {
   "cell_type": "markdown",
   "metadata": {},
   "source": [
    "Numpy’s random number routines produce pseudo random numbers using combinations of a BitGenerator to create sequences and a Generator to use those sequences to sample from different statistical distributions.\n",
    "\n",
    "\n",
    "\n",
    "BitGenerators: Objects that generate random numbers. These are typically unsigned integer words filled with sequences of either 32 or 64 random bits.\n",
    "\n",
    "\n",
    "Generators: Objects that transform sequences of random bits from a BitGenerator into sequences of numbers that follow a specific probability distribution (such as uniform, Normal or Binomial) within a specified interval."
   ]
  },
  {
   "cell_type": "markdown",
   "metadata": {},
   "source": [
    "***\n"
   ]
  },
  {
   "cell_type": "markdown",
   "metadata": {},
   "source": [
    "#### The random( ) function can be used to build customised random number generators. \n",
    "\n",
    "The Numpy.random module supplements the built-in Python random with functions for efficiently generating whole arrays of sample values from many kinds of probability distributions.  \n",
    "\n",
    "This module contains some simple random data generation methods, some permutation and distribution functions, and random generator functions.\n",
    "\n",
    "* A permutation is an arrangement of all or part of a set of objects, with regard to the order of the arrangement\n",
    "\n",
    "\n",
    "\n",
    "\n",
    "\n",
    "\n",
    "5 Distribution functions:\n",
    "\n",
    "Uniform Distribution\n",
    "Normal Distribution\n",
    "Gamma Distribution\n",
    "Exponential Distribution\n",
    "Poisson Distribution\n",
    "Binomial Distribution\n",
    "\n",
    "\n",
    "\n",
    "\n",
    "\n",
    "\n",
    "\n",
    "\n",
    "\n",
    "A random seed specifies the start point when a computer generates a random number sequence.\n",
    "\n",
    "The seed is a starting point for a sequence of pseudorandom numbers. If you start from the same seed, you get the very same sequence. This can be quite useful for debugging. If you want a different sequence of numbers each time, you can use the current time as a seed. (https://yourbasic.org/algorithms/random-number-generator-seed/)\n",
    "\n",
    "\n",
    "\n"
   ]
  },
  {
   "cell_type": "markdown",
   "metadata": {},
   "source": [
    "***\n"
   ]
  },
  {
   "cell_type": "markdown",
   "metadata": {},
   "source": [
    "# Bibliography \n",
    "\n",
    "\n",
    "McKinney, W., 2012. Python for data analysis: Data wrangling with Pandas, NumPy, and IPython. \" O'Reilly Media, Inc.\".\n",
    "\n",
    "Javapoint, 2020. Numpy.random () in Python. JavaPoint. Available at: https://www.javatpoint.com/numpy-random Accessed on: 04/11/2020. "
   ]
  },
  {
   "cell_type": "code",
   "execution_count": null,
   "metadata": {},
   "outputs": [],
   "source": []
  }
 ],
 "metadata": {
  "kernelspec": {
   "display_name": "Python 3",
   "language": "python",
   "name": "python3"
  },
  "language_info": {
   "codemirror_mode": {
    "name": "ipython",
    "version": 3
   },
   "file_extension": ".py",
   "mimetype": "text/x-python",
   "name": "python",
   "nbconvert_exporter": "python",
   "pygments_lexer": "ipython3",
   "version": "3.7.4"
  }
 },
 "nbformat": 4,
 "nbformat_minor": 2
}
